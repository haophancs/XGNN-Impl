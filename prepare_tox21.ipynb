{
 "cells": [
  {
   "cell_type": "code",
   "execution_count": 1,
   "id": "473ccdaf",
   "metadata": {},
   "outputs": [
    {
     "name": "stderr",
     "output_type": "stream",
     "text": [
      "/Users/haophancs/opt/anaconda3/envs/dig/lib/python3.8/site-packages/tqdm/auto.py:22: TqdmWarning: IProgress not found. Please update jupyter and ipywidgets. See https://ipywidgets.readthedocs.io/en/stable/user_install.html\n",
      "  from .autonotebook import tqdm as notebook_tqdm\n"
     ]
    }
   ],
   "source": [
    "import numpy as np\n",
    "import pickle\n",
    "\n",
    "from deepchem.molnet import load_tox21"
   ]
  },
  {
   "cell_type": "code",
   "execution_count": 2,
   "id": "6532a546",
   "metadata": {},
   "outputs": [],
   "source": [
    "_, tox21_datasets, _ = load_tox21(featurizer='GraphConv')\n",
    "train_dataset, val_dataset, test_dataset = tox21_datasets"
   ]
  },
  {
   "cell_type": "code",
   "execution_count": 3,
   "id": "01c11bc7",
   "metadata": {},
   "outputs": [
    {
     "name": "stdout",
     "output_type": "stream",
     "text": [
      "(7831,) (7831, 12)\n"
     ]
    }
   ],
   "source": [
    "X = np.concatenate((train_dataset.X, val_dataset.X, test_dataset.X))\n",
    "y = np.concatenate((train_dataset.y, val_dataset.y, test_dataset.y))\n",
    "adj_list = [x.get_adjacency_list() for x in X]\n",
    "print(X.shape, y.shape)"
   ]
  },
  {
   "cell_type": "code",
   "execution_count": 4,
   "id": "8a2868df",
   "metadata": {},
   "outputs": [
    {
     "name": "stdout",
     "output_type": "stream",
     "text": [
      "(145459, 75)\n"
     ]
    },
    {
     "data": {
      "text/plain": [
       "array([[1., 0., 0., ..., 0., 1., 0.],\n",
       "       [0., 0., 1., ..., 0., 0., 0.],\n",
       "       [0., 0., 1., ..., 0., 0., 0.],\n",
       "       ...,\n",
       "       [1., 0., 0., ..., 0., 0., 0.],\n",
       "       [0., 0., 0., ..., 0., 0., 0.],\n",
       "       [0., 0., 0., ..., 0., 0., 0.]])"
      ]
     },
     "execution_count": 4,
     "metadata": {},
     "output_type": "execute_result"
    }
   ],
   "source": [
    "node_attributes = np.concatenate([x.get_atom_features() for x in X])\n",
    "print(node_attributes.shape)\n",
    "with open('./datas/Tox21/Tox21_node_attributes.pkl', 'wb') as f:\n",
    "    pickle.dump(node_attributes, f)\n",
    "node_attributes"
   ]
  },
  {
   "cell_type": "code",
   "execution_count": 5,
   "id": "03d6a628",
   "metadata": {},
   "outputs": [
    {
     "name": "stdout",
     "output_type": "stream",
     "text": [
      "(7831,)\n"
     ]
    },
    {
     "data": {
      "text/plain": [
       "array([0, 0, 0, ..., 2, 7, 0])"
      ]
     },
     "execution_count": 5,
     "metadata": {},
     "output_type": "execute_result"
    }
   ],
   "source": [
    "graph_labels = y.argmax(-1)\n",
    "print(graph_labels.shape)\n",
    "\n",
    "with open('./datas/Tox21/Tox21_graph_labels.txt', 'w') as f:\n",
    "    for label in graph_labels:\n",
    "        f.write(f'{label}\\n')\n",
    "\n",
    "graph_labels"
   ]
  },
  {
   "cell_type": "code",
   "execution_count": 6,
   "id": "1e0c689a",
   "metadata": {},
   "outputs": [
    {
     "name": "stdout",
     "output_type": "stream",
     "text": [
      "(145459,)\n"
     ]
    },
    {
     "data": {
      "text/plain": [
       "array([   1,    1,    1, ..., 7831, 7831, 7831])"
      ]
     },
     "execution_count": 6,
     "metadata": {},
     "output_type": "execute_result"
    }
   ],
   "source": [
    "graph_indicator = np.array([i + 1 for i in range(len(adj_list)) for j in range(len(adj_list[i]))])\n",
    "print(graph_indicator.shape)\n",
    "\n",
    "with open('./datas/Tox21/Tox21_graph_indicator.txt', 'w') as f:\n",
    "    for graph_idx in graph_indicator:\n",
    "        f.write(f'{graph_idx}\\n')\n",
    "        \n",
    "graph_indicator"
   ]
  },
  {
   "cell_type": "code",
   "execution_count": 7,
   "id": "e1c6109c",
   "metadata": {},
   "outputs": [
    {
     "data": {
      "text/plain": [
       "array([[ 1, 10],\n",
       "       [ 2, 11],\n",
       "       [ 3, 11],\n",
       "       ...,\n",
       "       [44,  4],\n",
       "       [44, 10],\n",
       "       [44, 19]])"
      ]
     },
     "execution_count": 7,
     "metadata": {},
     "output_type": "execute_result"
    }
   ],
   "source": [
    "def adj_list_edge_list(adj_list):\n",
    "    n = len(adj_list)\n",
    "    A = []\n",
    "    for u, adj_u in enumerate(adj_list):\n",
    "        for v in adj_u:\n",
    "            A.append([u + 1, v + 1])\n",
    "    return np.array(A)\n",
    "\n",
    "A = [adj_list_edge_list(x.get_adjacency_list()) for x in X]\n",
    "A = [el for el in A if el.size > 0]\n",
    "A = np.concatenate(A)\n",
    "\n",
    "with open('./datas/Tox21/Tox21_A.txt', 'w') as f:\n",
    "    for u, v in A:\n",
    "        f.write(f'{u}, {v}\\n')\n",
    "\n",
    "A"
   ]
  },
  {
   "cell_type": "code",
   "execution_count": 11,
   "id": "e845dec5",
   "metadata": {},
   "outputs": [
    {
     "data": {
      "text/plain": [
       "(7831, 12)"
      ]
     },
     "execution_count": 11,
     "metadata": {},
     "output_type": "execute_result"
    }
   ],
   "source": [
    "y.shape"
   ]
  },
  {
   "cell_type": "code",
   "execution_count": 13,
   "id": "83931208",
   "metadata": {},
   "outputs": [
    {
     "data": {
      "text/plain": [
       "(11, 75)"
      ]
     },
     "execution_count": 13,
     "metadata": {},
     "output_type": "execute_result"
    }
   ],
   "source": [
    "X[0].get_atom_features().shape"
   ]
  },
  {
   "cell_type": "code",
   "execution_count": null,
   "id": "ee96fad7",
   "metadata": {},
   "outputs": [],
   "source": []
  }
 ],
 "metadata": {
  "kernelspec": {
   "display_name": "dig",
   "language": "python",
   "name": "dig"
  },
  "language_info": {
   "codemirror_mode": {
    "name": "ipython",
    "version": 3
   },
   "file_extension": ".py",
   "mimetype": "text/x-python",
   "name": "python",
   "nbconvert_exporter": "python",
   "pygments_lexer": "ipython3",
   "version": "3.8.13"
  }
 },
 "nbformat": 4,
 "nbformat_minor": 5
}
